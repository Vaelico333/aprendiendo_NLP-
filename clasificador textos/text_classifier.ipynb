{
 "cells": [
  {
   "cell_type": "code",
   "execution_count": 27,
   "metadata": {},
   "outputs": [],
   "source": [
    "import numpy as np\n",
    "import matplotlib.pyplot as plt\n",
    "import string\n",
    "from sklearn.model_selection import train_test_split"
   ]
  },
  {
   "cell_type": "code",
   "execution_count": 28,
   "metadata": {},
   "outputs": [],
   "source": [
    "archivos = [\n",
    "    'becquer.txt',\n",
    "    'machado.txt'\n",
    "]"
   ]
  },
  {
   "cell_type": "code",
   "execution_count": 29,
   "metadata": {},
   "outputs": [],
   "source": [
    "textos = []\n",
    "etiquetas = []"
   ]
  },
  {
   "cell_type": "code",
   "execution_count": 30,
   "metadata": {},
   "outputs": [
    {
     "name": "stdout",
     "output_type": "stream",
     "text": [
      "becquer.txt corresponde a 0\n",
      "machado.txt corresponde a 1\n"
     ]
    }
   ],
   "source": [
    "for etiqueta, f in enumerate(archivos):\n",
    "    print(f\"{f} corresponde a {etiqueta}\")\n",
    "\n",
    "    with open(f, 'r', encoding='utf-8') as archivo:\n",
    "        for line in archivo:\n",
    "            line = line.rstrip().lower()\n",
    "            if line:\n",
    "                line = line.translate(str.maketrans('','',string.punctuation))\n",
    "                textos.append(line)\n",
    "                etiquetas.append(etiqueta)\n"
   ]
  },
  {
   "cell_type": "code",
   "execution_count": 31,
   "metadata": {},
   "outputs": [
    {
     "name": "stdout",
     "output_type": "stream",
     "text": [
      "['rimas', '    yo sé un himno gigante y extraño', 'que anuncia en la noche del alma una aurora', 'y estas páginas son de ese himno', 'cadencias que el aire dilata en las sombras', '    yo quisiera escribirlo del hombre', 'domando el rebelde mezquino idioma', 'con palabras que fuesen a un tiempo', 'suspiros y risas colores y notas', '   pero en vano es luchar que no hay cifra', 'capaz de encerrarlo y apenas  oh hermosa', 'si teniendo en mis manos las tuyas', 'pudiera al oído contártelo a solas', '    saeta que voladora', 'cruza arrojada al azar']\n",
      "[0, 0, 0, 0, 0, 0, 0, 0, 0, 0, 0, 0, 0, 0, 0]\n"
     ]
    }
   ],
   "source": [
    "print(textos[:15])\n",
    "print(etiquetas[:15])"
   ]
  },
  {
   "cell_type": "code",
   "execution_count": 32,
   "metadata": {},
   "outputs": [],
   "source": [
    "train_text, test_text, Ytrain, Ytest = train_test_split(\n",
    "    textos, etiquetas, test_size=0.25, random_state=42)"
   ]
  },
  {
   "cell_type": "code",
   "execution_count": 33,
   "metadata": {},
   "outputs": [
    {
     "data": {
      "text/plain": [
       "(1824, 609)"
      ]
     },
     "execution_count": 33,
     "metadata": {},
     "output_type": "execute_result"
    }
   ],
   "source": [
    "len(Ytrain), len(Ytest)"
   ]
  },
  {
   "cell_type": "code",
   "execution_count": 34,
   "metadata": {},
   "outputs": [
    {
     "data": {
      "text/plain": [
       "['        y andar andar',\n",
       " 'y si les llega en sueños como un rumor distante',\n",
       " 'despidiose el duelo',\n",
       " ' cuántas veces temblar sobre los vidrios',\n",
       " '    saeta que voladora',\n",
       " '       del cabezal de piedra',\n",
       " 'cerré ya por que no entre',\n",
       " 'que a un mismo tronco enlazadas',\n",
       " 'agilitó su brazo acreditó su brío',\n",
       " 'torno a ver sus pupilas llamear',\n",
       " 'la espalda del moncayo',\n",
       " 'sobre el olivar',\n",
       " 'mas tengo en mi tristeza una alegría',\n",
       " 'de portales con escudos',\n",
       " '      en las zarzas agudas']"
      ]
     },
     "execution_count": 34,
     "metadata": {},
     "output_type": "execute_result"
    }
   ],
   "source": [
    "train_text[:15]"
   ]
  },
  {
   "cell_type": "code",
   "execution_count": 35,
   "metadata": {},
   "outputs": [
    {
     "data": {
      "text/plain": [
       "[0, 1, 0, 0, 0, 0, 0, 0, 1, 0, 1, 1, 0, 1, 0]"
      ]
     },
     "execution_count": 35,
     "metadata": {},
     "output_type": "execute_result"
    }
   ],
   "source": [
    "Ytrain[:15]"
   ]
  },
  {
   "cell_type": "code",
   "execution_count": 36,
   "metadata": {},
   "outputs": [],
   "source": [
    "indice = 1\n",
    "indicepalabras = {'<unk>' : 0}"
   ]
  },
  {
   "cell_type": "code",
   "execution_count": 37,
   "metadata": {},
   "outputs": [],
   "source": [
    "for texto in train_text:\n",
    "    tokens = texto.split()\n",
    "    for token in tokens:\n",
    "        if token not in indicepalabras:\n",
    "            indicepalabras[token] = indice\n",
    "            indice += 1"
   ]
  },
  {
   "cell_type": "code",
   "execution_count": 38,
   "metadata": {},
   "outputs": [
    {
     "data": {
      "text/plain": [
       "1824"
      ]
     },
     "execution_count": 38,
     "metadata": {},
     "output_type": "execute_result"
    }
   ],
   "source": [
    "train_text_int = []\n",
    "\n",
    "for texto in train_text:\n",
    "    tokens = texto.split()\n",
    "    linea_entero = [indicepalabras[token] for token in tokens]\n",
    "    train_text_int. append(linea_entero)\n",
    "len(train_text_int)"
   ]
  },
  {
   "cell_type": "code",
   "execution_count": 39,
   "metadata": {},
   "outputs": [
    {
     "data": {
      "text/plain": [
       "609"
      ]
     },
     "execution_count": 39,
     "metadata": {},
     "output_type": "execute_result"
    }
   ],
   "source": [
    "test_text_int = []\n",
    "for texto in test_text:\n",
    "    tokens = texto.split()\n",
    "    linea_entero = [indicepalabras.get(token, 0) for token in tokens]\n",
    "    test_text_int. append(linea_entero)\n",
    "\n",
    "len(test_text_int)"
   ]
  },
  {
   "cell_type": "code",
   "execution_count": 40,
   "metadata": {},
   "outputs": [],
   "source": [
    "V = len(indicepalabras)\n",
    "A0 = np.ones((V,V))\n",
    "pi0 = np.ones(V)\n",
    "\n",
    "A1 =  np.ones((V,V))\n",
    "pi1 = np.ones(V)"
   ]
  },
  {
   "cell_type": "code",
   "execution_count": 41,
   "metadata": {},
   "outputs": [],
   "source": [
    "def compute_counts(text_as_int, A, pi):\n",
    "    for tokens in text_as_int:\n",
    "        last_idx = None\n",
    "        for idx in tokens:\n",
    "            if last_idx is None:\n",
    "                pi[idx] += 1\n",
    "            else:\n",
    "                A[last_idx, idx] += 1\n",
    "            last_idx = idx"
   ]
  },
  {
   "cell_type": "code",
   "execution_count": 42,
   "metadata": {},
   "outputs": [],
   "source": [
    "compute_counts([t for t, y in zip(train_text_int, Ytrain) if y==0], A0, pi0)\n",
    "compute_counts([t for t, y in zip(train_text_int, Ytrain) if y==1], A1, pi1)"
   ]
  },
  {
   "cell_type": "code",
   "execution_count": 43,
   "metadata": {},
   "outputs": [],
   "source": [
    "# Normalizamos A y pi\n",
    "A0 /= A0.sum(axis=1, keepdims=True)\n",
    "pi0 /= pi0.sum()\n",
    "\n",
    "A1 /= A1.sum(axis=1, keepdims=True)\n",
    "pi1 /= pi1.sum()"
   ]
  },
  {
   "cell_type": "code",
   "execution_count": 44,
   "metadata": {},
   "outputs": [],
   "source": [
    "logA0 = np.log(A0)\n",
    "logpi0 = np.log(pi0)\n",
    "\n",
    "logA1 = np.log(A1)\n",
    "logpi1 = np.log(pi1)"
   ]
  },
  {
   "cell_type": "code",
   "execution_count": 45,
   "metadata": {},
   "outputs": [
    {
     "data": {
      "text/plain": [
       "array([-8.27537637, -3.85653577, -8.27537637, ..., -8.27537637,\n",
       "       -8.27537637, -8.27537637])"
      ]
     },
     "execution_count": 45,
     "metadata": {},
     "output_type": "execute_result"
    }
   ],
   "source": [
    "logpi0"
   ]
  },
  {
   "cell_type": "code",
   "execution_count": 46,
   "metadata": {},
   "outputs": [
    {
     "data": {
      "text/plain": [
       "(0.5630482456140351,\n",
       " -0.5743899607057185,\n",
       " 0.4369517543859649,\n",
       " -0.8279324918440617)"
      ]
     },
     "execution_count": 46,
     "metadata": {},
     "output_type": "execute_result"
    }
   ],
   "source": [
    "count0 = sum(y == 0 for y in Ytrain)\n",
    "count1 = sum(y == 1 for y in Ytrain)\n",
    "total = len(Ytrain)\n",
    "p0 = count0 / total\n",
    "p1 = count1 / total\n",
    "logp0 = np.log(p0)\n",
    "logp1 = np.log(p1)\n",
    "p0, logp0, p1, logp1"
   ]
  },
  {
   "cell_type": "code",
   "execution_count": 47,
   "metadata": {},
   "outputs": [],
   "source": [
    "class Classifier:\n",
    "    def __init__(self, logAs, logpis, logpriors):\n",
    "        self.logAs = logAs\n",
    "        self.logpis = logpis\n",
    "        self.logpriors = logpriors\n",
    "        self.K = len(logpriors)\n",
    "    def _compute_log_likelihood(self, input_, class_):\n",
    "        logA = self.logAs[class_]\n",
    "        logpi = self.logpis[class_]\n",
    "\n",
    "        last_idx = None\n",
    "        logprob = 0\n",
    "        for idx in input_:\n",
    "            if last_idx is None:\n",
    "                logprob += logpi[idx]\n",
    "            else:\n",
    "                logprob += logA[last_idx, idx]\n",
    "            \n",
    "            last_idx = idx\n",
    "        return logprob\n",
    "    def predict(self, inputs):\n",
    "        predictions = np.zeros(len(inputs))\n",
    "        for i, input_ in enumerate(inputs):\n",
    "            posteriors = [self._compute_log_likelihood(input_, c) + self.logpriors[c] \\\n",
    "                          for c in range(self.K)]\n",
    "            pred = np.argmax(posteriors)\n",
    "            predictions[i] = pred\n",
    "        return predictions\n",
    "        "
   ]
  },
  {
   "cell_type": "code",
   "execution_count": 48,
   "metadata": {},
   "outputs": [
    {
     "name": "stdout",
     "output_type": "stream",
     "text": [
      "Precisión del train: 0.9917763157894737\n"
     ]
    }
   ],
   "source": [
    "clf =  Classifier([logA0, logA1], [logpi0, logpi1], [logp0, logp1])\n",
    "\n",
    "Ptrain = clf.predict(train_text_int)\n",
    "print(f\"Precisión del train: {np.mean(Ptrain == Ytrain)}\")"
   ]
  },
  {
   "cell_type": "code",
   "execution_count": 49,
   "metadata": {},
   "outputs": [
    {
     "name": "stdout",
     "output_type": "stream",
     "text": [
      "Precisión del test: 0.6962233169129721\n"
     ]
    }
   ],
   "source": [
    "Ptest = clf.predict(test_text_int)\n",
    "print(f\"Precisión del test: {np.mean(Ptest == Ytest)}\")"
   ]
  },
  {
   "cell_type": "code",
   "execution_count": null,
   "metadata": {},
   "outputs": [],
   "source": []
  }
 ],
 "metadata": {
  "kernelspec": {
   "display_name": "Python 3",
   "language": "python",
   "name": "python3"
  },
  "language_info": {
   "codemirror_mode": {
    "name": "ipython",
    "version": 3
   },
   "file_extension": ".py",
   "mimetype": "text/x-python",
   "name": "python",
   "nbconvert_exporter": "python",
   "pygments_lexer": "ipython3",
   "version": "3.11.8"
  }
 },
 "nbformat": 4,
 "nbformat_minor": 2
}
