{
 "cells": [
  {
   "cell_type": "code",
   "execution_count": 1,
   "metadata": {},
   "outputs": [],
   "source": [
    "import gensim"
   ]
  },
  {
   "cell_type": "code",
   "execution_count": 2,
   "metadata": {},
   "outputs": [],
   "source": [
    "vectores = gensim.models.KeyedVectors.load_word2vec_format('SBW-vectors-300-min5.txt')"
   ]
  },
  {
   "cell_type": "code",
   "execution_count": 3,
   "metadata": {},
   "outputs": [],
   "source": [
    "def analogias (v1, v2, v3):\n",
    "    similitud = vectores.most_similar(positive=[v1, v3], negative=[v2])\n",
    "    print(f\"{v1} es a {v2} como {similitud[0][0]} es a {v3}\")"
   ]
  },
  {
   "cell_type": "code",
   "execution_count": 22,
   "metadata": {},
   "outputs": [
    {
     "name": "stdout",
     "output_type": "stream",
     "text": [
      "leche es a vaca como cereales es a trigo\n"
     ]
    }
   ],
   "source": [
    "analogias('leche', 'vaca',  'trigo')"
   ]
  },
  {
   "cell_type": "code",
   "execution_count": 44,
   "metadata": {},
   "outputs": [],
   "source": [
    "def cercanos (v):\n",
    "    vecinos = vectores.most_similar(positive=[v])\n",
    "    print(f'vecinos de: {v}')\n",
    "    for word, score in vecinos:\n",
    "        print(f\"\\t {word}\", 100*float(score), \"%\")"
   ]
  },
  {
   "cell_type": "code",
   "execution_count": 45,
   "metadata": {},
   "outputs": [
    {
     "name": "stdout",
     "output_type": "stream",
     "text": [
      "vecinos de: gato\n",
      "\t perro 74.45882558822632 %\n",
      "\t zorro 70.61580419540405 %\n",
      "\t conejo 70.18615007400513 %\n",
      "\t montés 68.75566244125366 %\n",
      "\t mapache 68.67462396621704 %\n",
      "\t maúlla 67.19430088996887 %\n",
      "\t tigre 66.4703905582428 %\n",
      "\t lybica 66.3175880908966 %\n",
      "\t huiña 66.06248617172241 %\n",
      "\t gatito 66.00395441055298 %\n"
     ]
    }
   ],
   "source": [
    "cercanos('gato')"
   ]
  },
  {
   "cell_type": "code",
   "execution_count": null,
   "metadata": {},
   "outputs": [],
   "source": []
  }
 ],
 "metadata": {
  "kernelspec": {
   "display_name": "Python 3",
   "language": "python",
   "name": "python3"
  },
  "language_info": {
   "codemirror_mode": {
    "name": "ipython",
    "version": 3
   },
   "file_extension": ".py",
   "mimetype": "text/x-python",
   "name": "python",
   "nbconvert_exporter": "python",
   "pygments_lexer": "ipython3",
   "version": "3.11.8"
  }
 },
 "nbformat": 4,
 "nbformat_minor": 2
}
