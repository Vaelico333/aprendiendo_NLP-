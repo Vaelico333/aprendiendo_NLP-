{
 "cells": [
  {
   "cell_type": "code",
   "execution_count": 258,
   "metadata": {},
   "outputs": [],
   "source": [
    "import numpy as np\n",
    "import string"
   ]
  },
  {
   "cell_type": "code",
   "execution_count": 259,
   "metadata": {},
   "outputs": [],
   "source": [
    "def remove_punctuation(s):\n",
    "    return s.translate(str.maketrans('','',string.punctuation))"
   ]
  },
  {
   "cell_type": "code",
   "execution_count": 260,
   "metadata": {},
   "outputs": [],
   "source": [
    "def add2dict(d,k,v):\n",
    "    if k not in d:\n",
    "        d[k] = []\n",
    "    d[k].append(v)"
   ]
  },
  {
   "cell_type": "code",
   "execution_count": 261,
   "metadata": {},
   "outputs": [],
   "source": [
    "pa_inicial = {}\n",
    "primer_orden = {}\n",
    "segundo_orden = {}\n",
    "\n",
    "with open('becquer.txt', 'r', encoding='utf-8') as archivo:\n",
    "    for line in archivo:\n",
    "        tokens = remove_punctuation(line.rstrip().lower()).split()\n",
    "        T = len(tokens)\n",
    "        for i in range(T):\n",
    "            token = tokens[i]\n",
    "            if i == 0:\n",
    "                pa_inicial[token] = pa_inicial.get(token, 0.) + 1\n",
    "            else:\n",
    "                t_1 = tokens[i-1]\n",
    "                if i == T - 1:\n",
    "                    add2dict(segundo_orden, (t_1, token), 'END')\n",
    "                if i == 1:\n",
    "                    add2dict(primer_orden, t_1, token)\n",
    "                else:\n",
    "                    t_2 = tokens[i-2]\n",
    "                    add2dict(segundo_orden, (t_2, t_1), token)\n"
   ]
  },
  {
   "cell_type": "code",
   "execution_count": 262,
   "metadata": {},
   "outputs": [],
   "source": [
    "inicial_total = sum(pa_inicial.values())\n",
    "\n",
    "for t, c in pa_inicial.items():\n",
    "    pa_inicial[t] = c / inicial_total"
   ]
  },
  {
   "cell_type": "code",
   "execution_count": 263,
   "metadata": {},
   "outputs": [],
   "source": [
    "def list2pdict(ts):\n",
    "    d = {}\n",
    "    n = len(ts)\n",
    "\n",
    "    for t in ts:\n",
    "        d[t] = d.get(t, 0.) + 1\n",
    "    \n",
    "    for t, c in d.items():\n",
    "        d[t] = c / n\n",
    "    return d"
   ]
  },
  {
   "cell_type": "code",
   "execution_count": 264,
   "metadata": {},
   "outputs": [],
   "source": [
    "for t_1, ts in primer_orden.items():\n",
    "    primer_orden[t_1] = list2pdict(ts)\n"
   ]
  },
  {
   "cell_type": "code",
   "execution_count": 265,
   "metadata": {},
   "outputs": [],
   "source": [
    "for k, ts in segundo_orden.items():\n",
    "    segundo_orden[k] = list2pdict(ts)"
   ]
  },
  {
   "cell_type": "code",
   "execution_count": 266,
   "metadata": {},
   "outputs": [],
   "source": [
    "def palabra_ejemplo (d, imprimir):\n",
    "    p0 = np.random.random()\n",
    "    if imprimir == 1:\n",
    "        print(f\"p0: {p0}\")\n",
    "    \n",
    "    cumulative = 0\n",
    "    if imprimir == 1:\n",
    "        print(f\"probabilidad acumulada: {cumulative}\")\n",
    "\n",
    "    for t, p in d.items():\n",
    "        cumulative += p\n",
    "        if imprimir == 1:\n",
    "            print(f\"-item: {t}, Prob: {p}\")\n",
    "            print(f\"\\tprob acumulada: {cumulative}\")\n",
    "        if p0 < cumulative:\n",
    "            return t"
   ]
  },
  {
   "cell_type": "code",
   "execution_count": 267,
   "metadata": {},
   "outputs": [
    {
     "name": "stdout",
     "output_type": "stream",
     "text": [
      "p0: 0.11472946713726018\n",
      "probabilidad acumulada: 0\n",
      "-item: átomos, Prob: 0.07142857142857142\n",
      "\tprob acumulada: 0.07142857142857142\n",
      "-item: pensamientos, Prob: 0.07142857142857142\n",
      "\tprob acumulada: 0.14285714285714285\n"
     ]
    },
    {
     "data": {
      "text/plain": [
       "'pensamientos'"
      ]
     },
     "execution_count": 267,
     "metadata": {},
     "output_type": "execute_result"
    }
   ],
   "source": [
    "palabra_ejemplo(primer_orden['los'], 1)"
   ]
  },
  {
   "cell_type": "code",
   "execution_count": 268,
   "metadata": {},
   "outputs": [],
   "source": [
    "def generador(tamaño):\n",
    "    for i in range(tamaño):\n",
    "        oracion = []\n",
    "\n",
    "        pal0 = palabra_ejemplo(pa_inicial, 0)\n",
    "        oracion.append(pal0)\n",
    "\n",
    "        pal1 = palabra_ejemplo(primer_orden[pal0], 0)\n",
    "        oracion.append(pal1)\n",
    "\n",
    "        while True:\n",
    "            pal2 = palabra_ejemplo(segundo_orden[(pal0, pal1)], 0)\n",
    "            if pal2 == 'END':\n",
    "                break\n",
    "            oracion.append(pal2)\n",
    "            pal0 = pal1\n",
    "            pal1 = pal2\n",
    "        print(' '.join(oracion))"
   ]
  },
  {
   "cell_type": "code",
   "execution_count": 280,
   "metadata": {},
   "outputs": [
    {
     "name": "stdout",
     "output_type": "stream",
     "text": [
      "junto a la vez\n",
      "los párpados velaban el reflejo\n",
      "en que luchando vivo\n",
      "apoyada en mi oído\n",
      "el eco de un reloj se oía\n",
      "en derredor del tronco ardiente\n",
      "por piedad adonde el vértigo\n",
      "por saber lo que en un libro abierto\n",
      "la amorosa cabeza\n",
      "en espiral inmensa\n"
     ]
    }
   ],
   "source": [
    "generador(10)"
   ]
  },
  {
   "cell_type": "code",
   "execution_count": null,
   "metadata": {},
   "outputs": [],
   "source": []
  }
 ],
 "metadata": {
  "kernelspec": {
   "display_name": "Python 3",
   "language": "python",
   "name": "python3"
  },
  "language_info": {
   "codemirror_mode": {
    "name": "ipython",
    "version": 3
   },
   "file_extension": ".py",
   "mimetype": "text/x-python",
   "name": "python",
   "nbconvert_exporter": "python",
   "pygments_lexer": "ipython3",
   "version": "3.11.8"
  }
 },
 "nbformat": 4,
 "nbformat_minor": 2
}
